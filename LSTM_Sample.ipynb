{
 "cells": [
  {
   "cell_type": "markdown",
   "metadata": {},
   "source": [
    "# LSTM to predict bitcoin prices "
   ]
  },
  {
   "cell_type": "code",
   "execution_count": 182,
   "metadata": {},
   "outputs": [],
   "source": [
    "import pandas as pd\n",
    "import pyspark as spark\n",
    "import matplotlib.pyplot as plt\n",
    "import numpy as np\n",
    "from sklearn.metrics import mean_squared_error\n",
    "from sklearn.preprocessing import MinMaxScaler\n",
    "from keras.models import Sequential\n",
    "from keras.layers import Dense\n",
    "from keras.layers import LSTM\n",
    "\n",
    "from numpy.random import seed\n",
    "seed(1)"
   ]
  },
  {
   "cell_type": "markdown",
   "metadata": {},
   "source": [
    "# Helper function to modify input"
   ]
  },
  {
   "cell_type": "code",
   "execution_count": 183,
   "metadata": {
    "collapsed": true
   },
   "outputs": [],
   "source": [
    "def series_to_supervised(data, n_in=1, n_out=1, dropnan=True):\n",
    "    '''\n",
    "    Converts the original dataframe to a format which contains\n",
    "    lag shifted values of inputs which can be used as input\n",
    "    to the LSTM\n",
    "    '''\n",
    "    n_vars = 1 if type(data) is list else data.shape[1]\n",
    "    df = pd.DataFrame(data)\n",
    "    cols, names = list(), list()\n",
    "    # input sequence (t-n, ... t-1)\n",
    "    for i in range(n_in, 0, -1):\n",
    "        cols.append(df.shift(i))\n",
    "        names += [('var%d(t-%d)' % (j+1, i)) for j in range(n_vars)]\n",
    "    # forecast sequence (t, t+1, ... t+n)\n",
    "    for i in range(0, n_out):\n",
    "        cols.append(df.shift(-i))\n",
    "        if i == 0:\n",
    "            names += [('var%d(t)' % (j+1)) for j in range(n_vars)]\n",
    "        else:\n",
    "            names += [('var%d(t+%d)' % (j+1, i)) for j in range(n_vars)]\n",
    "    # put it all together\n",
    "    agg = pd.concat(cols, axis=1)\n",
    "    agg.columns = names\n",
    "    # drop rows with NaN values\n",
    "    if dropnan:\n",
    "        agg.dropna(inplace=True)\n",
    "    return agg"
   ]
  },
  {
   "cell_type": "markdown",
   "metadata": {
    "collapsed": true
   },
   "source": [
    "## Multifeature Sentiment Analysis"
   ]
  },
  {
   "cell_type": "code",
   "execution_count": 184,
   "metadata": {},
   "outputs": [
    {
     "data": {
      "text/html": [
       "<div>\n",
       "<style>\n",
       "    .dataframe thead tr:only-child th {\n",
       "        text-align: right;\n",
       "    }\n",
       "\n",
       "    .dataframe thead th {\n",
       "        text-align: left;\n",
       "    }\n",
       "\n",
       "    .dataframe tbody tr th {\n",
       "        vertical-align: top;\n",
       "    }\n",
       "</style>\n",
       "<table border=\"1\" class=\"dataframe\">\n",
       "  <thead>\n",
       "    <tr style=\"text-align: right;\">\n",
       "      <th></th>\n",
       "      <th>DateTime</th>\n",
       "      <th>Negative</th>\n",
       "      <th>Neutral</th>\n",
       "      <th>Positive</th>\n",
       "      <th>Compound</th>\n",
       "      <th>Price</th>\n",
       "    </tr>\n",
       "  </thead>\n",
       "  <tbody>\n",
       "    <tr>\n",
       "      <th>0</th>\n",
       "      <td>2017-10-31T05:00:00.000-04:00</td>\n",
       "      <td>0.032105</td>\n",
       "      <td>0.888699</td>\n",
       "      <td>0.076390</td>\n",
       "      <td>0.095283</td>\n",
       "      <td>6158.76</td>\n",
       "    </tr>\n",
       "    <tr>\n",
       "      <th>1</th>\n",
       "      <td>2017-10-31T06:00:00.000-04:00</td>\n",
       "      <td>0.035658</td>\n",
       "      <td>0.862046</td>\n",
       "      <td>0.101670</td>\n",
       "      <td>0.130807</td>\n",
       "      <td>6105.90</td>\n",
       "    </tr>\n",
       "    <tr>\n",
       "      <th>2</th>\n",
       "      <td>2017-10-31T07:00:00.000-04:00</td>\n",
       "      <td>0.034356</td>\n",
       "      <td>0.864839</td>\n",
       "      <td>0.099413</td>\n",
       "      <td>0.130343</td>\n",
       "      <td>6094.36</td>\n",
       "    </tr>\n",
       "    <tr>\n",
       "      <th>3</th>\n",
       "      <td>2017-10-31T08:00:00.000-04:00</td>\n",
       "      <td>0.036202</td>\n",
       "      <td>0.879061</td>\n",
       "      <td>0.084736</td>\n",
       "      <td>0.110576</td>\n",
       "      <td>6125.13</td>\n",
       "    </tr>\n",
       "    <tr>\n",
       "      <th>4</th>\n",
       "      <td>2017-10-31T09:00:00.000-04:00</td>\n",
       "      <td>0.043838</td>\n",
       "      <td>0.862753</td>\n",
       "      <td>0.092850</td>\n",
       "      <td>0.108861</td>\n",
       "      <td>6165.00</td>\n",
       "    </tr>\n",
       "  </tbody>\n",
       "</table>\n",
       "</div>"
      ],
      "text/plain": [
       "                        DateTime  Negative   Neutral  Positive  Compound  \\\n",
       "0  2017-10-31T05:00:00.000-04:00  0.032105  0.888699  0.076390  0.095283   \n",
       "1  2017-10-31T06:00:00.000-04:00  0.035658  0.862046  0.101670  0.130807   \n",
       "2  2017-10-31T07:00:00.000-04:00  0.034356  0.864839  0.099413  0.130343   \n",
       "3  2017-10-31T08:00:00.000-04:00  0.036202  0.879061  0.084736  0.110576   \n",
       "4  2017-10-31T09:00:00.000-04:00  0.043838  0.862753  0.092850  0.108861   \n",
       "\n",
       "     Price  \n",
       "0  6158.76  \n",
       "1  6105.90  \n",
       "2  6094.36  \n",
       "3  6125.13  \n",
       "4  6165.00  "
      ]
     },
     "execution_count": 184,
     "metadata": {},
     "output_type": "execute_result"
    }
   ],
   "source": [
    "df1 = pd.read_csv('/Users/rohitsuvarna/Downloads/Bitcoin_data.csv',header=None)\n",
    "df1.columns = ['DateTime','Negative','Neutral','Positive','Compound','Price']\n",
    "df1.head()"
   ]
  },
  {
   "cell_type": "markdown",
   "metadata": {},
   "source": [
    "# Exploratory analysis\n"
   ]
  },
  {
   "cell_type": "code",
   "execution_count": 185,
   "metadata": {},
   "outputs": [
    {
     "data": {
      "image/png": "[encoded data removed]",
      "text/plain": [
       "<Figure size 432x288 with 5 Axes>"
      ]
     },
     "metadata": {},
     "output_type": "display_data"
    }
   ],
   "source": [
    "values = df1.values\n",
    "# specify columns to plot\n",
    "groups = [ 1,2,3,4,5]\n",
    "i = 1\n",
    "# plot each column\n",
    "plt.figure()\n",
    "for group in groups:\n",
    "\tplt.subplot(len(groups), 1, i)\n",
    "\tplt.plot(values[:, group])\n",
    "\tplt.title(df1.columns[group], y=0.5, loc='right')\n",
    "\ti += 1\n",
    "plt.show()"
   ]
  },
  {
   "cell_type": "code",
   "execution_count": 186,
   "metadata": {
    "collapsed": true
   },
   "outputs": [],
   "source": [
    "df1.set_index('DateTime',inplace=True)"
   ]
  },
  {
   "cell_type": "code",
   "execution_count": 187,
   "metadata": {},
   "outputs": [
    {
     "data": {
      "text/html": [
       "<div>\n",
       "<style>\n",
       "    .dataframe thead tr:only-child th {\n",
       "        text-align: right;\n",
       "    }\n",
       "\n",
       "    .dataframe thead th {\n",
       "        text-align: left;\n",
       "    }\n",
       "\n",
       "    .dataframe tbody tr th {\n",
       "        vertical-align: top;\n",
       "    }\n",
       "</style>\n",
       "<table border=\"1\" class=\"dataframe\">\n",
       "  <thead>\n",
       "    <tr style=\"text-align: right;\">\n",
       "      <th></th>\n",
       "      <th>Price</th>\n",
       "      <th>Negative</th>\n",
       "      <th>Neutral</th>\n",
       "      <th>Positive</th>\n",
       "      <th>Compound</th>\n",
       "    </tr>\n",
       "    <tr>\n",
       "      <th>DateTime</th>\n",
       "      <th></th>\n",
       "      <th></th>\n",
       "      <th></th>\n",
       "      <th></th>\n",
       "      <th></th>\n",
       "    </tr>\n",
       "  </thead>\n",
       "  <tbody>\n",
       "    <tr>\n",
       "      <th>2017-10-31T05:00:00.000-04:00</th>\n",
       "      <td>6158.76</td>\n",
       "      <td>0.032105</td>\n",
       "      <td>0.888699</td>\n",
       "      <td>0.076390</td>\n",
       "      <td>0.095283</td>\n",
       "    </tr>\n",
       "    <tr>\n",
       "      <th>2017-10-31T06:00:00.000-04:00</th>\n",
       "      <td>6105.90</td>\n",
       "      <td>0.035658</td>\n",
       "      <td>0.862046</td>\n",
       "      <td>0.101670</td>\n",
       "      <td>0.130807</td>\n",
       "    </tr>\n",
       "    <tr>\n",
       "      <th>2017-10-31T07:00:00.000-04:00</th>\n",
       "      <td>6094.36</td>\n",
       "      <td>0.034356</td>\n",
       "      <td>0.864839</td>\n",
       "      <td>0.099413</td>\n",
       "      <td>0.130343</td>\n",
       "    </tr>\n",
       "    <tr>\n",
       "      <th>2017-10-31T08:00:00.000-04:00</th>\n",
       "      <td>6125.13</td>\n",
       "      <td>0.036202</td>\n",
       "      <td>0.879061</td>\n",
       "      <td>0.084736</td>\n",
       "      <td>0.110576</td>\n",
       "    </tr>\n",
       "    <tr>\n",
       "      <th>2017-10-31T09:00:00.000-04:00</th>\n",
       "      <td>6165.00</td>\n",
       "      <td>0.043838</td>\n",
       "      <td>0.862753</td>\n",
       "      <td>0.092850</td>\n",
       "      <td>0.108861</td>\n",
       "    </tr>\n",
       "  </tbody>\n",
       "</table>\n",
       "</div>"
      ],
      "text/plain": [
       "                                 Price  Negative   Neutral  Positive  Compound\n",
       "DateTime                                                                      \n",
       "2017-10-31T05:00:00.000-04:00  6158.76  0.032105  0.888699  0.076390  0.095283\n",
       "2017-10-31T06:00:00.000-04:00  6105.90  0.035658  0.862046  0.101670  0.130807\n",
       "2017-10-31T07:00:00.000-04:00  6094.36  0.034356  0.864839  0.099413  0.130343\n",
       "2017-10-31T08:00:00.000-04:00  6125.13  0.036202  0.879061  0.084736  0.110576\n",
       "2017-10-31T09:00:00.000-04:00  6165.00  0.043838  0.862753  0.092850  0.108861"
      ]
     },
     "execution_count": 187,
     "metadata": {},
     "output_type": "execute_result"
    }
   ],
   "source": [
    "cols = df1.columns.tolist()\n",
    "cols = cols[-1:] + cols[:-1]\n",
    "df1 = df1[cols]\n",
    "df1.head()"
   ]
  },
  {
   "cell_type": "code",
   "execution_count": 188,
   "metadata": {
    "collapsed": true
   },
   "outputs": [],
   "source": [
    "scaler = MinMaxScaler(feature_range=(0, 1))\n",
    "scaled = scaler.fit_transform(df1.values)"
   ]
  },
  {
   "cell_type": "code",
   "execution_count": 189,
   "metadata": {
    "collapsed": true
   },
   "outputs": [],
   "source": [
    "# n_hours represents the number of lag values to take. If n_hour = 1 we only consider upto (t-1)\n",
    "n_hours = 3\n",
    "n_features = 5\n",
    "n_obs = n_hours*n_features"
   ]
  },
  {
   "cell_type": "code",
   "execution_count": 190,
   "metadata": {
    "scrolled": true
   },
   "outputs": [
    {
     "data": {
      "text/html": [
       "<div>\n",
       "<style>\n",
       "    .dataframe thead tr:only-child th {\n",
       "        text-align: right;\n",
       "    }\n",
       "\n",
       "    .dataframe thead th {\n",
       "        text-align: left;\n",
       "    }\n",
       "\n",
       "    .dataframe tbody tr th {\n",
       "        vertical-align: top;\n",
       "    }\n",
       "</style>\n",
       "<table border=\"1\" class=\"dataframe\">\n",
       "  <thead>\n",
       "    <tr style=\"text-align: right;\">\n",
       "      <th></th>\n",
       "      <th>var1(t-3)</th>\n",
       "      <th>var2(t-3)</th>\n",
       "      <th>var3(t-3)</th>\n",
       "      <th>var4(t-3)</th>\n",
       "      <th>var5(t-3)</th>\n",
       "      <th>var1(t-2)</th>\n",
       "      <th>var2(t-2)</th>\n",
       "      <th>var3(t-2)</th>\n",
       "      <th>var4(t-2)</th>\n",
       "      <th>var5(t-2)</th>\n",
       "      <th>var1(t-1)</th>\n",
       "      <th>var2(t-1)</th>\n",
       "      <th>var3(t-1)</th>\n",
       "      <th>var4(t-1)</th>\n",
       "      <th>var5(t-1)</th>\n",
       "      <th>var1(t)</th>\n",
       "      <th>var2(t)</th>\n",
       "      <th>var3(t)</th>\n",
       "      <th>var4(t)</th>\n",
       "      <th>var5(t)</th>\n",
       "    </tr>\n",
       "  </thead>\n",
       "  <tbody>\n",
       "    <tr>\n",
       "      <th>3</th>\n",
       "      <td>0.039567</td>\n",
       "      <td>0.078779</td>\n",
       "      <td>0.831199</td>\n",
       "      <td>0.195812</td>\n",
       "      <td>0.401475</td>\n",
       "      <td>0.007090</td>\n",
       "      <td>0.128849</td>\n",
       "      <td>0.579299</td>\n",
       "      <td>0.505289</td>\n",
       "      <td>0.542609</td>\n",
       "      <td>0.000000</td>\n",
       "      <td>0.110492</td>\n",
       "      <td>0.605697</td>\n",
       "      <td>0.477654</td>\n",
       "      <td>0.540763</td>\n",
       "      <td>0.018905</td>\n",
       "      <td>0.136519</td>\n",
       "      <td>0.740108</td>\n",
       "      <td>0.297985</td>\n",
       "      <td>0.462231</td>\n",
       "    </tr>\n",
       "    <tr>\n",
       "      <th>4</th>\n",
       "      <td>0.007090</td>\n",
       "      <td>0.128849</td>\n",
       "      <td>0.579299</td>\n",
       "      <td>0.505289</td>\n",
       "      <td>0.542609</td>\n",
       "      <td>0.000000</td>\n",
       "      <td>0.110492</td>\n",
       "      <td>0.605697</td>\n",
       "      <td>0.477654</td>\n",
       "      <td>0.540763</td>\n",
       "      <td>0.018905</td>\n",
       "      <td>0.136519</td>\n",
       "      <td>0.740108</td>\n",
       "      <td>0.297985</td>\n",
       "      <td>0.462231</td>\n",
       "      <td>0.043401</td>\n",
       "      <td>0.244122</td>\n",
       "      <td>0.585976</td>\n",
       "      <td>0.397319</td>\n",
       "      <td>0.455419</td>\n",
       "    </tr>\n",
       "    <tr>\n",
       "      <th>5</th>\n",
       "      <td>0.000000</td>\n",
       "      <td>0.110492</td>\n",
       "      <td>0.605697</td>\n",
       "      <td>0.477654</td>\n",
       "      <td>0.540763</td>\n",
       "      <td>0.018905</td>\n",
       "      <td>0.136519</td>\n",
       "      <td>0.740108</td>\n",
       "      <td>0.297985</td>\n",
       "      <td>0.462231</td>\n",
       "      <td>0.043401</td>\n",
       "      <td>0.244122</td>\n",
       "      <td>0.585976</td>\n",
       "      <td>0.397319</td>\n",
       "      <td>0.455419</td>\n",
       "      <td>0.046946</td>\n",
       "      <td>0.186121</td>\n",
       "      <td>0.513127</td>\n",
       "      <td>0.542100</td>\n",
       "      <td>0.528573</td>\n",
       "    </tr>\n",
       "    <tr>\n",
       "      <th>6</th>\n",
       "      <td>0.018905</td>\n",
       "      <td>0.136519</td>\n",
       "      <td>0.740108</td>\n",
       "      <td>0.297985</td>\n",
       "      <td>0.462231</td>\n",
       "      <td>0.043401</td>\n",
       "      <td>0.244122</td>\n",
       "      <td>0.585976</td>\n",
       "      <td>0.397319</td>\n",
       "      <td>0.455419</td>\n",
       "      <td>0.046946</td>\n",
       "      <td>0.186121</td>\n",
       "      <td>0.513127</td>\n",
       "      <td>0.542100</td>\n",
       "      <td>0.528573</td>\n",
       "      <td>0.085634</td>\n",
       "      <td>0.117236</td>\n",
       "      <td>0.544642</td>\n",
       "      <td>0.555482</td>\n",
       "      <td>0.628997</td>\n",
       "    </tr>\n",
       "    <tr>\n",
       "      <th>7</th>\n",
       "      <td>0.043401</td>\n",
       "      <td>0.244122</td>\n",
       "      <td>0.585976</td>\n",
       "      <td>0.397319</td>\n",
       "      <td>0.455419</td>\n",
       "      <td>0.046946</td>\n",
       "      <td>0.186121</td>\n",
       "      <td>0.513127</td>\n",
       "      <td>0.542100</td>\n",
       "      <td>0.528573</td>\n",
       "      <td>0.085634</td>\n",
       "      <td>0.117236</td>\n",
       "      <td>0.544642</td>\n",
       "      <td>0.555482</td>\n",
       "      <td>0.628997</td>\n",
       "      <td>0.065537</td>\n",
       "      <td>0.100541</td>\n",
       "      <td>0.701571</td>\n",
       "      <td>0.373207</td>\n",
       "      <td>0.492066</td>\n",
       "    </tr>\n",
       "  </tbody>\n",
       "</table>\n",
       "</div>"
      ],
      "text/plain": [
       "   var1(t-3)  var2(t-3)  var3(t-3)  var4(t-3)  var5(t-3)  var1(t-2)  \\\n",
       "3   0.039567   0.078779   0.831199   0.195812   0.401475   0.007090   \n",
       "4   0.007090   0.128849   0.579299   0.505289   0.542609   0.000000   \n",
       "5   0.000000   0.110492   0.605697   0.477654   0.540763   0.018905   \n",
       "6   0.018905   0.136519   0.740108   0.297985   0.462231   0.043401   \n",
       "7   0.043401   0.244122   0.585976   0.397319   0.455419   0.046946   \n",
       "\n",
       "   var2(t-2)  var3(t-2)  var4(t-2)  var5(t-2)  var1(t-1)  var2(t-1)  \\\n",
       "3   0.128849   0.579299   0.505289   0.542609   0.000000   0.110492   \n",
       "4   0.110492   0.605697   0.477654   0.540763   0.018905   0.136519   \n",
       "5   0.136519   0.740108   0.297985   0.462231   0.043401   0.244122   \n",
       "6   0.244122   0.585976   0.397319   0.455419   0.046946   0.186121   \n",
       "7   0.186121   0.513127   0.542100   0.528573   0.085634   0.117236   \n",
       "\n",
       "   var3(t-1)  var4(t-1)  var5(t-1)   var1(t)   var2(t)   var3(t)   var4(t)  \\\n",
       "3   0.605697   0.477654   0.540763  0.018905  0.136519  0.740108  0.297985   \n",
       "4   0.740108   0.297985   0.462231  0.043401  0.244122  0.585976  0.397319   \n",
       "5   0.585976   0.397319   0.455419  0.046946  0.186121  0.513127  0.542100   \n",
       "6   0.513127   0.542100   0.528573  0.085634  0.117236  0.544642  0.555482   \n",
       "7   0.544642   0.555482   0.628997  0.065537  0.100541  0.701571  0.373207   \n",
       "\n",
       "    var5(t)  \n",
       "3  0.462231  \n",
       "4  0.455419  \n",
       "5  0.528573  \n",
       "6  0.628997  \n",
       "7  0.492066  "
      ]
     },
     "execution_count": 190,
     "metadata": {},
     "output_type": "execute_result"
    }
   ],
   "source": [
    "reframed = series_to_supervised(scaled, n_hours, 1)\n",
    "reframed.head()"
   ]
  },
  {
   "cell_type": "code",
   "execution_count": 191,
   "metadata": {},
   "outputs": [
    {
     "data": {
      "text/html": [
       "<div>\n",
       "<style>\n",
       "    .dataframe thead tr:only-child th {\n",
       "        text-align: right;\n",
       "    }\n",
       "\n",
       "    .dataframe thead th {\n",
       "        text-align: left;\n",
       "    }\n",
       "\n",
       "    .dataframe tbody tr th {\n",
       "        vertical-align: top;\n",
       "    }\n",
       "</style>\n",
       "<table border=\"1\" class=\"dataframe\">\n",
       "  <thead>\n",
       "    <tr style=\"text-align: right;\">\n",
       "      <th></th>\n",
       "      <th>var1(t-3)</th>\n",
       "      <th>var2(t-3)</th>\n",
       "      <th>var3(t-3)</th>\n",
       "      <th>var4(t-3)</th>\n",
       "      <th>var5(t-3)</th>\n",
       "      <th>var1(t-2)</th>\n",
       "      <th>var2(t-2)</th>\n",
       "      <th>var3(t-2)</th>\n",
       "      <th>var4(t-2)</th>\n",
       "      <th>var5(t-2)</th>\n",
       "      <th>var1(t-1)</th>\n",
       "      <th>var2(t-1)</th>\n",
       "      <th>var3(t-1)</th>\n",
       "      <th>var4(t-1)</th>\n",
       "      <th>var5(t-1)</th>\n",
       "      <th>var1(t)</th>\n",
       "    </tr>\n",
       "  </thead>\n",
       "  <tbody>\n",
       "    <tr>\n",
       "      <th>3</th>\n",
       "      <td>0.039567</td>\n",
       "      <td>0.078779</td>\n",
       "      <td>0.831199</td>\n",
       "      <td>0.195812</td>\n",
       "      <td>0.401475</td>\n",
       "      <td>0.007090</td>\n",
       "      <td>0.128849</td>\n",
       "      <td>0.579299</td>\n",
       "      <td>0.505289</td>\n",
       "      <td>0.542609</td>\n",
       "      <td>0.000000</td>\n",
       "      <td>0.110492</td>\n",
       "      <td>0.605697</td>\n",
       "      <td>0.477654</td>\n",
       "      <td>0.540763</td>\n",
       "      <td>0.018905</td>\n",
       "    </tr>\n",
       "    <tr>\n",
       "      <th>4</th>\n",
       "      <td>0.007090</td>\n",
       "      <td>0.128849</td>\n",
       "      <td>0.579299</td>\n",
       "      <td>0.505289</td>\n",
       "      <td>0.542609</td>\n",
       "      <td>0.000000</td>\n",
       "      <td>0.110492</td>\n",
       "      <td>0.605697</td>\n",
       "      <td>0.477654</td>\n",
       "      <td>0.540763</td>\n",
       "      <td>0.018905</td>\n",
       "      <td>0.136519</td>\n",
       "      <td>0.740108</td>\n",
       "      <td>0.297985</td>\n",
       "      <td>0.462231</td>\n",
       "      <td>0.043401</td>\n",
       "    </tr>\n",
       "    <tr>\n",
       "      <th>5</th>\n",
       "      <td>0.000000</td>\n",
       "      <td>0.110492</td>\n",
       "      <td>0.605697</td>\n",
       "      <td>0.477654</td>\n",
       "      <td>0.540763</td>\n",
       "      <td>0.018905</td>\n",
       "      <td>0.136519</td>\n",
       "      <td>0.740108</td>\n",
       "      <td>0.297985</td>\n",
       "      <td>0.462231</td>\n",
       "      <td>0.043401</td>\n",
       "      <td>0.244122</td>\n",
       "      <td>0.585976</td>\n",
       "      <td>0.397319</td>\n",
       "      <td>0.455419</td>\n",
       "      <td>0.046946</td>\n",
       "    </tr>\n",
       "    <tr>\n",
       "      <th>6</th>\n",
       "      <td>0.018905</td>\n",
       "      <td>0.136519</td>\n",
       "      <td>0.740108</td>\n",
       "      <td>0.297985</td>\n",
       "      <td>0.462231</td>\n",
       "      <td>0.043401</td>\n",
       "      <td>0.244122</td>\n",
       "      <td>0.585976</td>\n",
       "      <td>0.397319</td>\n",
       "      <td>0.455419</td>\n",
       "      <td>0.046946</td>\n",
       "      <td>0.186121</td>\n",
       "      <td>0.513127</td>\n",
       "      <td>0.542100</td>\n",
       "      <td>0.528573</td>\n",
       "      <td>0.085634</td>\n",
       "    </tr>\n",
       "    <tr>\n",
       "      <th>7</th>\n",
       "      <td>0.043401</td>\n",
       "      <td>0.244122</td>\n",
       "      <td>0.585976</td>\n",
       "      <td>0.397319</td>\n",
       "      <td>0.455419</td>\n",
       "      <td>0.046946</td>\n",
       "      <td>0.186121</td>\n",
       "      <td>0.513127</td>\n",
       "      <td>0.542100</td>\n",
       "      <td>0.528573</td>\n",
       "      <td>0.085634</td>\n",
       "      <td>0.117236</td>\n",
       "      <td>0.544642</td>\n",
       "      <td>0.555482</td>\n",
       "      <td>0.628997</td>\n",
       "      <td>0.065537</td>\n",
       "    </tr>\n",
       "  </tbody>\n",
       "</table>\n",
       "</div>"
      ],
      "text/plain": [
       "   var1(t-3)  var2(t-3)  var3(t-3)  var4(t-3)  var5(t-3)  var1(t-2)  \\\n",
       "3   0.039567   0.078779   0.831199   0.195812   0.401475   0.007090   \n",
       "4   0.007090   0.128849   0.579299   0.505289   0.542609   0.000000   \n",
       "5   0.000000   0.110492   0.605697   0.477654   0.540763   0.018905   \n",
       "6   0.018905   0.136519   0.740108   0.297985   0.462231   0.043401   \n",
       "7   0.043401   0.244122   0.585976   0.397319   0.455419   0.046946   \n",
       "\n",
       "   var2(t-2)  var3(t-2)  var4(t-2)  var5(t-2)  var1(t-1)  var2(t-1)  \\\n",
       "3   0.128849   0.579299   0.505289   0.542609   0.000000   0.110492   \n",
       "4   0.110492   0.605697   0.477654   0.540763   0.018905   0.136519   \n",
       "5   0.136519   0.740108   0.297985   0.462231   0.043401   0.244122   \n",
       "6   0.244122   0.585976   0.397319   0.455419   0.046946   0.186121   \n",
       "7   0.186121   0.513127   0.542100   0.528573   0.085634   0.117236   \n",
       "\n",
       "   var3(t-1)  var4(t-1)  var5(t-1)   var1(t)  \n",
       "3   0.605697   0.477654   0.540763  0.018905  \n",
       "4   0.740108   0.297985   0.462231  0.043401  \n",
       "5   0.585976   0.397319   0.455419  0.046946  \n",
       "6   0.513127   0.542100   0.528573  0.085634  \n",
       "7   0.544642   0.555482   0.628997  0.065537  "
      ]
     },
     "execution_count": 191,
     "metadata": {},
     "output_type": "execute_result"
    }
   ],
   "source": [
    "reframed = reframed.drop(reframed.columns[-4:], axis=1)\n",
    "reframed.head()"
   ]
  },
  {
   "cell_type": "code",
   "execution_count": 192,
   "metadata": {},
   "outputs": [
    {
     "data": {
      "text/plain": [
       "(170, 16)"
      ]
     },
     "execution_count": 192,
     "metadata": {},
     "output_type": "execute_result"
    }
   ],
   "source": [
    "values = reframed.values\n",
    "n_train_hours = 170\n",
    "train = values[:n_train_hours, :]\n",
    "test = values[n_train_hours:, :]\n",
    "train.shape"
   ]
  },
  {
   "cell_type": "code",
   "execution_count": 193,
   "metadata": {
    "collapsed": true
   },
   "outputs": [],
   "source": [
    "# split into input and outputs\n",
    "train_X, train_y = train[:, :n_obs], train[:, -n_features]\n",
    "test_X, test_y = test[:, :n_obs], test[:, -n_features]"
   ]
  },
  {
   "cell_type": "code",
   "execution_count": 194,
   "metadata": {},
   "outputs": [
    {
     "name": "stdout",
     "output_type": "stream",
     "text": [
      "(170, 3, 5) (170,) (38, 3, 5) (38,)\n"
     ]
    }
   ],
   "source": [
    "# reshape input to be 3D [samples, timesteps, features] for LSTM\n",
    "train_X = train_X.reshape((train_X.shape[0], n_hours, n_features))\n",
    "test_X = test_X.reshape((test_X.shape[0], n_hours, n_features))\n",
    "print(train_X.shape, train_y.shape, test_X.shape, test_y.shape)"
   ]
  },
  {
   "cell_type": "markdown",
   "metadata": {},
   "source": [
    "# LSTM Design"
   ]
  },
  {
   "cell_type": "code",
   "execution_count": 195,
   "metadata": {
    "scrolled": true
   },
   "outputs": [
    {
     "name": "stdout",
     "output_type": "stream",
     "text": [
      "Train on 170 samples, validate on 38 samples\n",
      "Epoch 1/20\n",
      " - 2s - loss: 0.1259 - val_loss: 0.1983\n",
      "Epoch 2/20\n",
      " - 0s - loss: 0.0821 - val_loss: 0.1972\n",
      "Epoch 3/20\n",
      " - 0s - loss: 0.0814 - val_loss: 0.1915\n",
      "Epoch 4/20\n",
      " - 0s - loss: 0.0792 - val_loss: 0.1857\n",
      "Epoch 5/20\n",
      " - 0s - loss: 0.0773 - val_loss: 0.1815\n",
      "Epoch 6/20\n",
      " - 0s - loss: 0.0755 - val_loss: 0.1766\n",
      "Epoch 7/20\n",
      " - 0s - loss: 0.0734 - val_loss: 0.1700\n",
      "Epoch 8/20\n",
      " - 0s - loss: 0.0713 - val_loss: 0.1644\n",
      "Epoch 9/20\n",
      " - 0s - loss: 0.0690 - val_loss: 0.1563\n",
      "Epoch 10/20\n",
      " - 0s - loss: 0.0664 - val_loss: 0.1490\n",
      "Epoch 11/20\n",
      " - 0s - loss: 0.0635 - val_loss: 0.1398\n",
      "Epoch 12/20\n",
      " - 0s - loss: 0.0597 - val_loss: 0.1317\n",
      "Epoch 13/20\n",
      " - 0s - loss: 0.0560 - val_loss: 0.1233\n",
      "Epoch 14/20\n",
      " - 0s - loss: 0.0525 - val_loss: 0.1142\n",
      "Epoch 15/20\n",
      " - 0s - loss: 0.0490 - val_loss: 0.1083\n",
      "Epoch 16/20\n",
      " - 0s - loss: 0.0465 - val_loss: 0.0996\n",
      "Epoch 17/20\n",
      " - 0s - loss: 0.0457 - val_loss: 0.0952\n",
      "Epoch 18/20\n",
      " - 0s - loss: 0.0447 - val_loss: 0.0929\n",
      "Epoch 19/20\n",
      " - 0s - loss: 0.0448 - val_loss: 0.0892\n",
      "Epoch 20/20\n",
      " - 0s - loss: 0.0458 - val_loss: 0.0827\n"
     ]
    }
   ],
   "source": [
    "# design network\n",
    "model = Sequential()\n",
    "model.add(LSTM(5, input_shape=(train_X.shape[1], train_X.shape[2])))\n",
    "model.add(Dense(1))\n",
    "model.compile(loss='mae', optimizer='adam')\n",
    "# fit network\n",
    "history = model.fit(train_X, train_y, epochs=20, batch_size=4, validation_data=(test_X, test_y), verbose=2, shuffle=False)\n",
    "# plot history"
   ]
  },
  {
   "cell_type": "code",
   "execution_count": 196,
   "metadata": {},
   "outputs": [
    {
     "data": {
      "image/png": "[encoded data removed]",
      "text/plain": [
       "<Figure size 432x288 with 1 Axes>"
      ]
     },
     "metadata": {},
     "output_type": "display_data"
    }
   ],
   "source": [
    "plt.plot(history.history['loss'], label='train')\n",
    "plt.plot(history.history['val_loss'], label='test')\n",
    "plt.legend()\n",
    "plt.show()"
   ]
  },
  {
   "cell_type": "code",
   "execution_count": 197,
   "metadata": {},
   "outputs": [
    {
     "name": "stdout",
     "output_type": "stream",
     "text": [
      "Test RMSE: 217.456\n"
     ]
    }
   ],
   "source": [
    "# make a prediction\n",
    "yhat = model.predict(test_X)\n",
    "test_X = test_X.reshape((test_X.shape[0], n_hours* n_features))\n",
    "# invert scaling for forecast\n",
    "inv_yhat = np.concatenate((yhat, test_X[:, -4:]), axis=1)\n",
    "inv_yhat = scaler.inverse_transform(inv_yhat)\n",
    "inv_yhat = inv_yhat[:,0]\n",
    "# invert scaling for actual\n",
    "test_y = test_y.reshape((len(test_y), 1))\n",
    "inv_y = np.concatenate((test_y, test_X[:, -4:]), axis=1)\n",
    "inv_y = scaler.inverse_transform(inv_y)\n",
    "inv_y = inv_y[:,0]\n",
    "# calculate RMSE\n",
    "rmse = np.sqrt(mean_squared_error(inv_y, inv_yhat))\n",
    "print('Test RMSE: %.3f' % rmse)"
   ]
  },
  {
   "cell_type": "code",
   "execution_count": 198,
   "metadata": {},
   "outputs": [
    {
     "data": {
      "text/plain": [
       "[<matplotlib.lines.Line2D at 0x12f36b0f0>]"
      ]
     },
     "execution_count": 198,
     "metadata": {},
     "output_type": "execute_result"
    }
   ],
   "source": [
    "plt.plot(inv_y)\n",
    "plt.plot(inv_yhat)"
   ]
  },
  {
   "cell_type": "markdown",
   "metadata": {},
   "source": [
    "# Plot of actual and predicted bitcoin prices in last 35 time steps(hours)"
   ]
  },
  {
   "cell_type": "code",
   "execution_count": 199,
   "metadata": {},
   "outputs": [
    {
     "data": {
      "image/png": "[encoded data removed]",
      "text/plain": [
       "<Figure size 432x288 with 1 Axes>"
      ]
     },
     "metadata": {},
     "output_type": "display_data"
    }
   ],
   "source": [
    "plt.show()"
   ]
  },
  {
   "cell_type": "code",
   "execution_count": null,
   "metadata": {
    "collapsed": true
   },
   "outputs": [],
   "source": []
  }
 ],
 "metadata": {
  "kernelspec": {
   "display_name": "Python 3",
   "language": "python",
   "name": "python3"
  },
  "language_info": {
   "codemirror_mode": {
    "name": "ipython",
    "version": 3
   },
   "file_extension": ".py",
   "mimetype": "text/x-python",
   "name": "python",
   "nbconvert_exporter": "python",
   "pygments_lexer": "ipython3",
   "version": "3.6.6"
  }
 },
 "nbformat": 4,
 "nbformat_minor": 2
}
